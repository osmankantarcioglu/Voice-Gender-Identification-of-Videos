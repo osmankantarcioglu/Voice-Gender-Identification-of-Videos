{
  "nbformat": 4,
  "nbformat_minor": 0,
  "metadata": {
    "colab": {
      "provenance": []
    },
    "kernelspec": {
      "name": "python3",
      "display_name": "Python 3"
    },
    "language_info": {
      "name": "python"
    }
  },
  "cells": [
    {
      "cell_type": "code",
      "execution_count": null,
      "metadata": {
        "id": "tvizuUl7e-Gd",
        "colab": {
          "base_uri": "https://localhost:8080/"
        },
        "outputId": "dcef185c-44e6-43e5-b5b5-f7aee342b468"
      },
      "outputs": [
        {
          "output_type": "stream",
          "name": "stdout",
          "text": [
            "/content/drive/MyDrive/research/PROJ201 20221/Gender Identification\n"
          ]
        }
      ],
      "source": [
        "%cd /content/drive/MyDrive/research/PROJ201 20221/Gender Identification"
      ]
    },
    {
      "cell_type": "code",
      "source": [
        "import pandas as pd\n",
        "import glob\n",
        "from sklearn.metrics import confusion_matrix\n",
        "from sklearn.metrics import classification_report"
      ],
      "metadata": {
        "id": "BIG4GMEgfeBM"
      },
      "execution_count": null,
      "outputs": []
    },
    {
      "cell_type": "code",
      "source": [
        "for i, file_path in enumerate(glob.glob('data/STEM/*/*.csv')):\n",
        "  tmp = pd.read_csv(file_path)\n",
        "  if i ==0:\n",
        "    data = tmp\n",
        "  else:\n",
        "    data = pd.concat([data, tmp])\n",
        "data = data.fillna('NA')\n",
        "data = data[['Gender', 'pred_second_model', 'pred']]"
      ],
      "metadata": {
        "id": "v5VZasiJfhZP"
      },
      "execution_count": null,
      "outputs": []
    },
    {
      "cell_type": "code",
      "source": [
        "data"
      ],
      "metadata": {
        "id": "A0iXQN0bfsjT"
      },
      "execution_count": null,
      "outputs": []
    },
    {
      "cell_type": "code",
      "source": [
        "# Check if the data is balance\n",
        "print('Is your data balance?')\n",
        "print('Male:', (data['Gender']=='Male').sum()*100/len(data),'%')\n",
        "print('Female:', (data['Gender']=='Female').sum()*100/len(data),'%')\n",
        "print('Neutral:', (data['Gender']=='Neutral').sum()*100/len(data),'%')\n",
        "print('NA:', (data['Gender']=='NA').sum()*100/len(data),'%')"
      ],
      "metadata": {
        "id": "rJ6VktXP45_5"
      },
      "execution_count": null,
      "outputs": []
    },
    {
      "cell_type": "code",
      "source": [
        "cm = confusion_matrix(data['Gender'], data['pred'],labels=[\"Male\", \"Female\", 'Neutral', 'NA'])\n",
        "print('Evaluate IsaSpeechSegmenter Prediction')\n",
        "print(cm)\n",
        "print(classification_report(data['Gender'], data['pred'],labels=[\"Male\", \"Female\", 'Neutral', 'NA']))"
      ],
      "metadata": {
        "id": "pRmrbdjGgDPL"
      },
      "execution_count": null,
      "outputs": []
    },
    {
      "cell_type": "code",
      "source": [
        "cm = confusion_matrix(data['Gender'], data['pred_second_model'],labels=[\"Male\", \"Female\", 'Neutral', 'NA'])\n",
        "print('Evaluate Feed Forward Neural Network based model Prediction')\n",
        "print(cm)\n",
        "print(classification_report(data['Gender'], data['pred_second_model'],labels=[\"Male\", \"Female\", 'Neutral', 'NA']))"
      ],
      "metadata": {
        "id": "9SRiHlFmgWFB"
      },
      "execution_count": null,
      "outputs": []
    }
  ]
}