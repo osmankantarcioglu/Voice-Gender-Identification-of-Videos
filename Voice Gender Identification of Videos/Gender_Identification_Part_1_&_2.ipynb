{
  "nbformat": 4,
  "nbformat_minor": 0,
  "metadata": {
    "colab": {
      "provenance": []
    },
    "kernelspec": {
      "name": "python3",
      "display_name": "Python 3"
    },
    "language_info": {
      "name": "python"
    }
  },
  "cells": [
    {
      "cell_type": "code",
      "execution_count": null,
      "metadata": {
        "id": "9sXkrJ-u-e5_"
      },
      "outputs": [],
      "source": [
        "%cd /content/drive/MyDrive/research/PROJ201 20221/Gender Identification"
      ]
    },
    {
      "cell_type": "code",
      "source": [
        "import pandas as pd"
      ],
      "metadata": {
        "id": "80zv5YhR_Q6L"
      },
      "execution_count": null,
      "outputs": []
    },
    {
      "cell_type": "code",
      "source": [
        "!pip install pytube"
      ],
      "metadata": {
        "id": "CZliPeyn_4pe"
      },
      "execution_count": null,
      "outputs": []
    },
    {
      "cell_type": "code",
      "source": [
        "from pytube import YouTube"
      ],
      "metadata": {
        "id": "0KubQB7C_yT5"
      },
      "execution_count": null,
      "outputs": []
    },
    {
      "cell_type": "code",
      "source": [
        "SAVE_PATH = 'download'"
      ],
      "metadata": {
        "id": "4nM_K5MDAu5p"
      },
      "execution_count": null,
      "outputs": []
    },
    {
      "cell_type": "code",
      "source": [
        "import os"
      ],
      "metadata": {
        "id": "6RhElJctBNuq"
      },
      "execution_count": null,
      "outputs": []
    },
    {
      "cell_type": "code",
      "source": [
        "# Download the audio from Youtube\n",
        "def download_audio(link):\n",
        "  if not os.path.exists(SAVE_PATH):\n",
        "      os.makedirs(SAVE_PATH)\n",
        "  download_details = {}\n",
        "  # Read the Youtube detail\n",
        "  yt = YouTube(link)\n",
        "  try:\n",
        "    download_details['length'] = int(yt.length)\n",
        "    if download_details['length'] >= 75*60:\n",
        "      raise Exception()\n",
        "    mp4files =  yt.streams.filter(only_audio=True).order_by('abr').desc()\n",
        "    if len(mp4files)==0:\n",
        "        raise Exception()\n",
        "    mp4files[0].download(SAVE_PATH, filename='x.wav')\n",
        "    download_details['audio_downloadable'] = 1\n",
        "    download_details['audio_downloadable_2'] = 1\n",
        "  except:\n",
        "    download_details['audio_downloadable'] = 0\n",
        "    download_details['audio_downloadable_2'] = 0\n",
        "  return download_details"
      ],
      "metadata": {
        "id": "Up85WD_-_ipa"
      },
      "execution_count": null,
      "outputs": []
    },
    {
      "cell_type": "code",
      "source": [
        "import glob"
      ],
      "metadata": {
        "id": "opbZy8trEege"
      },
      "execution_count": null,
      "outputs": []
    },
    {
      "cell_type": "code",
      "source": [
        "# Delete Downloaded files\n",
        "def delete_download_files():\n",
        "  files = glob.glob(SAVE_PATH+\"/*\")\n",
        "  for f in files:\n",
        "    try:\n",
        "      os.remove(f)\n",
        "    except:\n",
        "      continue"
      ],
      "metadata": {
        "id": "bbLsZU8GB8aJ"
      },
      "execution_count": null,
      "outputs": []
    },
    {
      "cell_type": "code",
      "source": [
        "!pip install librosa"
      ],
      "metadata": {
        "id": "Fo2NYpE0FIK6"
      },
      "execution_count": null,
      "outputs": []
    },
    {
      "cell_type": "code",
      "source": [
        "import librosa\n",
        "import soundfile as sf"
      ],
      "metadata": {
        "id": "ywY6O6jLFLDV"
      },
      "execution_count": null,
      "outputs": []
    },
    {
      "cell_type": "code",
      "source": [
        "def sampling(audio_path, audio_length):\n",
        "    samples = []\n",
        "    # Split the audion into samples (10s each 60)\n",
        "    start = 0\n",
        "    end = start + 10\n",
        "    while (end < audio_length):\n",
        "        samples.append((start, end))\n",
        "        start = start + 60\n",
        "        end = start + 10\n",
        "    if start < audio_length:\n",
        "        samples.append((start, audio_length))\n",
        "    X, sample_rate = librosa.core.load(audio_path)\n",
        "    for i, x in enumerate(samples):\n",
        "      # extract features and reshape it\n",
        "      sf.write(SAVE_PATH+'/'+str(i)+'.wav', X[x[0]*sample_rate:x[1]*sample_rate], sample_rate)\n",
        "    return samples"
      ],
      "metadata": {
        "id": "AJ9iyIInElZe"
      },
      "execution_count": null,
      "outputs": []
    },
    {
      "cell_type": "code",
      "source": [
        "!pip install inaSpeechSegmenter"
      ],
      "metadata": {
        "id": "mlAZFN40fwPD"
      },
      "execution_count": null,
      "outputs": []
    },
    {
      "cell_type": "code",
      "source": [
        "from PyVoiceGR.utils import load_data, split_data, create_model\n",
        "from PyVoiceGR.test import extract_feature\n",
        "from inaSpeechSegmenter import Segmenter\n",
        "import numpy as np"
      ],
      "metadata": {
        "id": "pAvIUb5efrVb"
      },
      "execution_count": null,
      "outputs": []
    },
    {
      "cell_type": "code",
      "source": [
        "seg = Segmenter()"
      ],
      "metadata": {
        "id": "a4Y6K_qDbpMY"
      },
      "execution_count": null,
      "outputs": []
    },
    {
      "cell_type": "code",
      "source": [
        "model = create_model()\n",
        "model.load_weights(\"PyVoiceGR/results/model.h5\")"
      ],
      "metadata": {
        "id": "IHxxtUDgcaBA"
      },
      "execution_count": null,
      "outputs": []
    },
    {
      "cell_type": "code",
      "source": [
        "def audio_gender_recognition(audio_split):\n",
        "    male_sum = 0\n",
        "    female_sum = 0\n",
        "    male_sum_second_model = 0\n",
        "    female_sum_second_model = 0\n",
        "    total_time = 0\n",
        "    speech_time = 0\n",
        "    labels = ['male', 'female']\n",
        "\n",
        "    for i in range(len(audio_split)):\n",
        "        try:\n",
        "            segmentation = seg(SAVE_PATH+'/'+str(i)+'.wav')\n",
        "            X, sample_rate = librosa.core.load(SAVE_PATH+'/'+str(i)+'.wav')\n",
        "            for s in segmentation:\n",
        "                total_time += s[2] - s[1]\n",
        "                if (s[0] == 'male') or (s[0] == 'female'):\n",
        "                  if (s[2] - s[1]) > 1:\n",
        "                    speech_time += s[2] - s[1]\n",
        "                    if s[0] == 'male':\n",
        "                        male_sum += s[2] - s[1]\n",
        "                    elif s[0] == 'female':\n",
        "                        female_sum += s[2] - s[1]\n",
        "                    # extract features and reshape it\n",
        "                    features = extract_feature(X[int(s[1])*sample_rate:int(s[2]+1)*sample_rate], sample_rate, mel=True).reshape(1, -1)\n",
        "                    # predict the gender!\n",
        "                    male_prob = model.predict(features)[0][0]\n",
        "                    female_prob = 1 - male_prob\n",
        "                    confidence = [male_prob, female_prob]\n",
        "                    idx = np.argmax(confidence)\n",
        "                    label = labels[idx]\n",
        "                    if label == 'male':\n",
        "                      male_sum_second_model += s[2] - s[1]\n",
        "                    elif label == 'female':\n",
        "                      female_sum_second_model += s[2] - s[1]\n",
        "\n",
        "        except:\n",
        "            continue\n",
        "    if total_time > 0:\n",
        "      male_ratio = male_sum/total_time\n",
        "      female_ratio = female_sum/total_time\n",
        "      male_ratio_second_model = male_sum_second_model/total_time\n",
        "      female_ratio_second_model = female_sum_second_model/total_time\n",
        "    else:\n",
        "      male_ratio = 0\n",
        "      female_ratio = 0\n",
        "      male_ratio_second_model = 0\n",
        "      female_ratio_second_model = 0\n",
        "    no_speech_ratio = 1 - (male_ratio+female_ratio)\n",
        "    no_speech_ratio_second_model = 1 - (male_ratio_second_model+female_ratio_second_model)\n",
        "    return male_ratio, female_ratio, no_speech_ratio, male_ratio_second_model, female_ratio_second_model, no_speech_ratio_second_model\n"
      ],
      "metadata": {
        "id": "UeBdL3dlevMr"
      },
      "execution_count": null,
      "outputs": []
    },
    {
      "cell_type": "code",
      "source": [
        "def prediction(male_ratio, female_ratio, no_speech_ratio):\n",
        "  if no_speech_ratio >= 0.9:\n",
        "    return 'NA'\n",
        "  elif (male_ratio>0) and (female_ratio>0) and (abs(male_ratio-female_ratio)<0.25):\n",
        "    return 'Neutral'\n",
        "  elif male_ratio > female_ratio:\n",
        "    return 'Male'\n",
        "  else:\n",
        "    return 'Female'"
      ],
      "metadata": {
        "id": "6NpGE9LnyCKe"
      },
      "execution_count": null,
      "outputs": []
    },
    {
      "cell_type": "code",
      "source": [
        "def analyze(link):\n",
        "    # Download the audio and video of the youtube link\n",
        "    sample = download_audio(link)\n",
        "    # check if the audio has been downloaded\n",
        "    if (sample['audio_downloadable']==1) or (sample['audio_downloadable_2']==1):\n",
        "        #Split and sample the audio\n",
        "        audio_path = SAVE_PATH+'/x.wav'\n",
        "        audio_length = sample['length']\n",
        "        # start = time.time()\n",
        "        audio_split = sampling(audio_path, audio_length)\n",
        "        if len(audio_split)!= 0:\n",
        "            # Apply gender recognition of audio\n",
        "            sample['male_ratio'], sample['female_ratio'], sample['no_speech_ratio'], sample['male_ratio_second_model'], sample['female_ratio_second_model'], sample['no_speech_ratio_second_model'] = audio_gender_recognition(audio_split)\n",
        "            sample['pred'] = prediction(sample['male_ratio'], sample['female_ratio'], sample['no_speech_ratio'])\n",
        "            sample['pred_second_model'] = prediction(sample['male_ratio_second_model'], sample['female_ratio_second_model'], sample['no_speech_ratio_second_model'])\n",
        "\n",
        "        else:\n",
        "            sample['male_ratio'] = 0\n",
        "            sample['female_ratio'] = 0\n",
        "            sample['no_speech_ratio'] = 0\n",
        "            sample['pred'] = 'NA'\n",
        "            sample['male_ratio_second_model'] = 0\n",
        "            sample['female_ratio_second_model'] = 0\n",
        "            sample['no_speech_ratio_second_model'] = 0\n",
        "            sample['pred_second_model'] = 'NA'\n",
        "    else:\n",
        "        sample['male_ratio'] = 0\n",
        "        sample['female_ratio'] = 0\n",
        "        sample['no_speech_ratio'] = 0\n",
        "        sample['pred'] = 'NA'\n",
        "        sample['male_ratio_second_model'] = 0\n",
        "        sample['female_ratio_second_model'] = 0\n",
        "        sample['no_speech_ratio_second_model'] = 0\n",
        "        sample['pred_second_model'] = 'NA'\n",
        "    delete_download_files()\n",
        "    return sample"
      ],
      "metadata": {
        "id": "c7KwvzAQyiQi"
      },
      "execution_count": null,
      "outputs": []
    },
    {
      "cell_type": "code",
      "source": [
        "import numpy as np\n",
        "import time"
      ],
      "metadata": {
        "id": "s-Op-OyEFcdm"
      },
      "execution_count": null,
      "outputs": []
    },
    {
      "cell_type": "code",
      "source": [
        "files = glob.glob('data/STEM/*/*.csv')\n",
        "for file in files:\n",
        "  change = False\n",
        "  # print(file)\n",
        "  file_name = file.split('/')[-1]\n",
        "  data = pd.read_csv(file)\n",
        "  data['Gender'] = data['Gender'].fillna('NA')\n",
        "  for i in data.index:\n",
        "    if ('audio_downloadable' in data.columns) and (not np.isnan(data.loc[i, 'audio_downloadable'])) and ('audio_downloadable_2' in data.columns) and (not np.isnan(data.loc[i, 'audio_downloadable_2'])):\n",
        "      continue\n",
        "    change = True\n",
        "    link = data.loc[i,'URL']\n",
        "    sample = analyze(link)\n",
        "    for k in sample:\n",
        "      data.loc[i,k] = sample[k]\n",
        "    data.to_csv(file, index=False)\n",
        "    time.sleep(2*60)\n",
        "  print(file_name,'is done................................................................................................')\n",
        "  if change:\n",
        "    time.sleep(10*60)\n",
        "  # break"
      ],
      "metadata": {
        "id": "QctlMSpLBwVn"
      },
      "execution_count": null,
      "outputs": []
    }
  ]
}